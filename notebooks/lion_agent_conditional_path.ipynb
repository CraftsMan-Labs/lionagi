{
 "cells": [
  {
   "cell_type": "code",
   "execution_count": 1,
   "metadata": {},
   "outputs": [],
   "source": [
    "from lionagi.core.message import System, Instruction\n",
    "from lionagi.core.executor.graph_executor import GraphExecutor\n",
    "from lionagi.core.engine.instruction_map_engine import InstructionMapEngine\n",
    "from lionagi.core.agent.base_agent import BaseAgent\n",
    "\n",
    "from lionagi.core.generic.edge_condition import EdgeCondition"
   ]
  },
  {
   "cell_type": "code",
   "execution_count": 2,
   "metadata": {},
   "outputs": [],
   "source": [
    "# let us use a simple conditional calculator as an example\n",
    "# in this example, we will have two steps in the instruction, first step would be choosing between sum or diff based on a case number\n",
    "# and second step would be choosing between times or plus based on the sign of the first step\n",
    "\n",
    "system = System(\n",
    "    \"You are asked to perform as a calculator. Return only a numeric value, i.e. int or float, no text.\"\n",
    ")\n",
    "\n",
    "# case 0\n",
    "instruct1 = Instruction(\n",
    "    instruction={\n",
    "        \"sum the absolute values\": \"provided with 2 numbers, return the sum of their absolute values. i.e. |x|+|y|\",\n",
    "    }\n",
    ")\n",
    "\n",
    "# case 1\n",
    "instruct2 = Instruction(\n",
    "    instruction={\n",
    "        \"diff the absolute values\": \"provided with 2 numbers, return the difference of absolute values. i.e. |x|-|y|\",\n",
    "    }\n",
    ")\n",
    "\n",
    "instruct3 = Instruction(\n",
    "    instruction={\n",
    "        \"if previous response is positive\": \"times 2. i.e. *2\",\n",
    "        \"else\": \"plus 2. i.e. +2\",\n",
    "    }\n",
    ")"
   ]
  },
  {
   "cell_type": "code",
   "execution_count": 3,
   "metadata": {},
   "outputs": [],
   "source": [
    "graph_calc = GraphExecutor()\n",
    "graph_calc.add_node(system)\n",
    "graph_calc.add_node(instruct1)\n",
    "graph_calc.add_node(instruct2)\n",
    "graph_calc.add_node(instruct3)"
   ]
  },
  {
   "cell_type": "markdown",
   "metadata": {},
   "source": [
    "### Create Relationship Conditions"
   ]
  },
  {
   "cell_type": "markdown",
   "metadata": {},
   "source": [
    "Conditions help filter the path to be executed.\n",
    "It has to be an implemented subclass of Condition class.\n",
    "\n",
    "There are two functions in Condition class:\n",
    "\n",
    "```python\n",
    "def __init__(self, source)\n",
    "```\n",
    "\n",
    "`source` can only be \"structure\" or \"executable\"\n",
    "\n",
    "```python\n",
    "@abstractmethod\n",
    "def applies(self, source)\n",
    "```\n",
    "\n",
    "All information in the structure and executable object is available for checking. \n",
    "`applies` is expected to return a bool. If True, the path is selected.\n",
    "\n",
    "If the `source` is \"structure\", the `source` is expected to be the structure object in the agent when checking the condition. \n",
    "\n",
    "If the `source` is \"executable\", the `source` is expected to be the executable object in the agent when checking the condition. If the executable object is `InstructionMapExecutor`, source would be the `BranchExecutor` object for the corresponding path."
   ]
  },
  {
   "cell_type": "code",
   "execution_count": 4,
   "metadata": {},
   "outputs": [],
   "source": [
    "class CaseCondition(EdgeCondition):\n",
    "    def __init__(self, case):\n",
    "        super().__init__(source=\"executable\")\n",
    "        self.case = case\n",
    "\n",
    "    async def applies(self, executable):\n",
    "        case = executable.context[\"case\"]\n",
    "        return case == self.case\n",
    "\n",
    "\n",
    "cond0 = CaseCondition(case=0)\n",
    "cond1 = CaseCondition(case=1)"
   ]
  },
  {
   "cell_type": "markdown",
   "metadata": {},
   "source": [
    "### Build Relationships with Conditions"
   ]
  },
  {
   "cell_type": "markdown",
   "metadata": {},
   "source": [
    "In this example, if `case` is 0, execute `instruct1`, or if `case` is 1, execute `instruct2`.\n",
    "\n",
    "Then, execute `instruct3`."
   ]
  },
  {
   "cell_type": "code",
   "execution_count": 5,
   "metadata": {},
   "outputs": [],
   "source": [
    "graph_calc.add_edge(system, instruct1, condition=cond0)\n",
    "graph_calc.add_edge(system, instruct2, condition=cond1)\n",
    "graph_calc.add_edge(instruct1, instruct3)\n",
    "graph_calc.add_edge(instruct2, instruct3)"
   ]
  },
  {
   "cell_type": "code",
   "execution_count": 6,
   "metadata": {},
   "outputs": [
    {
     "data": {
      "image/png": "[encoded data removed]",
      "text/plain": [
       "<Figure size 640x480 with 1 Axes>"
      ]
     },
     "metadata": {},
     "output_type": "display_data"
    }
   ],
   "source": [
    "graph_calc.display()"
   ]
  },
  {
   "cell_type": "code",
   "execution_count": 7,
   "metadata": {},
   "outputs": [],
   "source": [
    "## output_parser parameter: agent self\n",
    "## output_parser return: the expected result that should be returned after execution\n",
    "def output_parser(agent):\n",
    "    ## return all message dataframe in all branches\n",
    "    output = []\n",
    "    for branch in agent.executable.branches.values():\n",
    "        output.append(branch.to_df())\n",
    "    return output\n",
    "\n",
    "\n",
    "executable = InstructionMapEngine()"
   ]
  },
  {
   "cell_type": "code",
   "execution_count": 8,
   "metadata": {},
   "outputs": [],
   "source": [
    "calculator = BaseAgent(\n",
    "    structure=graph_calc, executable=executable, output_parser=output_parser\n",
    ")"
   ]
  },
  {
   "cell_type": "code",
   "execution_count": 9,
   "metadata": {},
   "outputs": [
    {
     "name": "stdout",
     "output_type": "stream",
     "text": [
      "------------------Welcome: system--------------------\n"
     ]
    },
    {
     "data": {
      "text/markdown": [
       "system: You are asked to perform as a calculator. Return only a numeric value, i.e. int or float, no text."
      ],
      "text/plain": [
       "<IPython.core.display.Markdown object>"
      ]
     },
     "metadata": {},
     "output_type": "display_data"
    },
    {
     "data": {
      "text/markdown": [
       "user: {\"sum the absolute values\": \"provided with 2 numbers, return the sum of their absolute values. i.e. |x|+|y|\"}"
      ],
      "text/plain": [
       "<IPython.core.display.Markdown object>"
      ]
     },
     "metadata": {},
     "output_type": "display_data"
    },
    {
     "data": {
      "text/markdown": [
       "assistant 1390ae2e7d5d9f702c5dc9bae24b8dd9: 6"
      ],
      "text/plain": [
       "<IPython.core.display.Markdown object>"
      ]
     },
     "metadata": {},
     "output_type": "display_data"
    },
    {
     "name": "stdout",
     "output_type": "stream",
     "text": [
      "-----------------------------------------------------\n"
     ]
    },
    {
     "data": {
      "text/markdown": [
       "user: {\"if previous response is positive\": \"times 2. i.e. *2\", \"else\": \"plus 2. i.e. +2\"}"
      ],
      "text/plain": [
       "<IPython.core.display.Markdown object>"
      ]
     },
     "metadata": {},
     "output_type": "display_data"
    },
    {
     "data": {
      "text/markdown": [
       "assistant 1390ae2e7d5d9f702c5dc9bae24b8dd9: 12"
      ],
      "text/plain": [
       "<IPython.core.display.Markdown object>"
      ]
     },
     "metadata": {},
     "output_type": "display_data"
    },
    {
     "name": "stdout",
     "output_type": "stream",
     "text": [
      "-----------------------------------------------------\n"
     ]
    }
   ],
   "source": [
    "result = await calculator.execute(context={\"x\": -6, \"y\": 0, \"case\": 0})"
   ]
  },
  {
   "cell_type": "code",
   "execution_count": 10,
   "metadata": {},
   "outputs": [
    {
     "data": {
      "text/html": [
       "<div>\n",
       "<style scoped>\n",
       "    .dataframe tbody tr th:only-of-type {\n",
       "        vertical-align: middle;\n",
       "    }\n",
       "\n",
       "    .dataframe tbody tr th {\n",
       "        vertical-align: top;\n",
       "    }\n",
       "\n",
       "    .dataframe thead th {\n",
       "        text-align: right;\n",
       "    }\n",
       "</style>\n",
       "<table border=\"1\" class=\"dataframe\">\n",
       "  <thead>\n",
       "    <tr style=\"text-align: right;\">\n",
       "      <th></th>\n",
       "      <th>ln_id</th>\n",
       "      <th>message_type</th>\n",
       "      <th>timestamp</th>\n",
       "      <th>role</th>\n",
       "      <th>content</th>\n",
       "      <th>metadata</th>\n",
       "      <th>sender</th>\n",
       "      <th>recipient</th>\n",
       "    </tr>\n",
       "  </thead>\n",
       "  <tbody>\n",
       "    <tr>\n",
       "      <th>0</th>\n",
       "      <td>92bd40fa4d800348755c81e0108472a2</td>\n",
       "      <td>System</td>\n",
       "      <td>2024-07-03T18:38:58.943084</td>\n",
       "      <td>system</td>\n",
       "      <td>{'system_info': 'You are asked to perform as a...</td>\n",
       "      <td>{'last_updated': {'recipient': '2024-07-03T18:...</td>\n",
       "      <td>system</td>\n",
       "      <td>1390ae2e7d5d9f702c5dc9bae24b8dd9</td>\n",
       "    </tr>\n",
       "    <tr>\n",
       "      <th>1</th>\n",
       "      <td>9fddd97550523f33fd9aadbf9e9bf9c4</td>\n",
       "      <td>Instruction</td>\n",
       "      <td>2024-07-03T18:39:00.894881</td>\n",
       "      <td>user</td>\n",
       "      <td>{'instruction': {'sum the absolute values': 'p...</td>\n",
       "      <td>{'last_updated': {'sender': '2024-07-03T18:39:...</td>\n",
       "      <td>user</td>\n",
       "      <td>1390ae2e7d5d9f702c5dc9bae24b8dd9</td>\n",
       "    </tr>\n",
       "    <tr>\n",
       "      <th>2</th>\n",
       "      <td>8157e9d105ab986c300d9e5796ba55c2</td>\n",
       "      <td>AssistantResponse</td>\n",
       "      <td>2024-07-03T18:39:01.793851</td>\n",
       "      <td>assistant</td>\n",
       "      <td>{'assistant_response': '6'}</td>\n",
       "      <td>{'last_updated': {'sender': '2024-07-03T18:39:...</td>\n",
       "      <td>1390ae2e7d5d9f702c5dc9bae24b8dd9</td>\n",
       "      <td>user</td>\n",
       "    </tr>\n",
       "    <tr>\n",
       "      <th>3</th>\n",
       "      <td>07aeaa3b4242630361dfedfa95fb8e99</td>\n",
       "      <td>Instruction</td>\n",
       "      <td>2024-07-03T18:39:02.210289</td>\n",
       "      <td>user</td>\n",
       "      <td>{'instruction': {'if previous response is posi...</td>\n",
       "      <td>{'last_updated': {'sender': '2024-07-03T18:39:...</td>\n",
       "      <td>user</td>\n",
       "      <td>1390ae2e7d5d9f702c5dc9bae24b8dd9</td>\n",
       "    </tr>\n",
       "    <tr>\n",
       "      <th>4</th>\n",
       "      <td>b27e3e9e15a601556d11028e3a5fa99b</td>\n",
       "      <td>AssistantResponse</td>\n",
       "      <td>2024-07-03T18:39:02.600506</td>\n",
       "      <td>assistant</td>\n",
       "      <td>{'assistant_response': '12'}</td>\n",
       "      <td>{'last_updated': {'sender': '2024-07-03T18:39:...</td>\n",
       "      <td>1390ae2e7d5d9f702c5dc9bae24b8dd9</td>\n",
       "      <td>user</td>\n",
       "    </tr>\n",
       "  </tbody>\n",
       "</table>\n",
       "</div>"
      ],
      "text/plain": [
       "                              ln_id       message_type  \\\n",
       "0  92bd40fa4d800348755c81e0108472a2             System   \n",
       "1  9fddd97550523f33fd9aadbf9e9bf9c4        Instruction   \n",
       "2  8157e9d105ab986c300d9e5796ba55c2  AssistantResponse   \n",
       "3  07aeaa3b4242630361dfedfa95fb8e99        Instruction   \n",
       "4  b27e3e9e15a601556d11028e3a5fa99b  AssistantResponse   \n",
       "\n",
       "                    timestamp       role  \\\n",
       "0  2024-07-03T18:38:58.943084     system   \n",
       "1  2024-07-03T18:39:00.894881       user   \n",
       "2  2024-07-03T18:39:01.793851  assistant   \n",
       "3  2024-07-03T18:39:02.210289       user   \n",
       "4  2024-07-03T18:39:02.600506  assistant   \n",
       "\n",
       "                                             content  \\\n",
       "0  {'system_info': 'You are asked to perform as a...   \n",
       "1  {'instruction': {'sum the absolute values': 'p...   \n",
       "2                        {'assistant_response': '6'}   \n",
       "3  {'instruction': {'if previous response is posi...   \n",
       "4                       {'assistant_response': '12'}   \n",
       "\n",
       "                                            metadata  \\\n",
       "0  {'last_updated': {'recipient': '2024-07-03T18:...   \n",
       "1  {'last_updated': {'sender': '2024-07-03T18:39:...   \n",
       "2  {'last_updated': {'sender': '2024-07-03T18:39:...   \n",
       "3  {'last_updated': {'sender': '2024-07-03T18:39:...   \n",
       "4  {'last_updated': {'sender': '2024-07-03T18:39:...   \n",
       "\n",
       "                             sender                         recipient  \n",
       "0                            system  1390ae2e7d5d9f702c5dc9bae24b8dd9  \n",
       "1                              user  1390ae2e7d5d9f702c5dc9bae24b8dd9  \n",
       "2  1390ae2e7d5d9f702c5dc9bae24b8dd9                              user  \n",
       "3                              user  1390ae2e7d5d9f702c5dc9bae24b8dd9  \n",
       "4  1390ae2e7d5d9f702c5dc9bae24b8dd9                              user  "
      ]
     },
     "execution_count": 10,
     "metadata": {},
     "output_type": "execute_result"
    }
   ],
   "source": [
    "result[0]"
   ]
  },
  {
   "cell_type": "markdown",
   "metadata": {},
   "source": [
    "# Storing Structures\n",
    "\n",
    "We currently support the storage of structures in Excel and Neo4j, enabling their reuse in future applications."
   ]
  },
  {
   "cell_type": "markdown",
   "metadata": {},
   "source": [
    "### Excel"
   ]
  },
  {
   "cell_type": "code",
   "execution_count": 11,
   "metadata": {},
   "outputs": [],
   "source": [
    "graph_calc.to_excel(\"math\")  # dir = \"structure_storage\" (default)"
   ]
  },
  {
   "cell_type": "markdown",
   "metadata": {},
   "source": [
    "### Neo4j"
   ]
  },
  {
   "cell_type": "code",
   "execution_count": 12,
   "metadata": {},
   "outputs": [],
   "source": [
    "# initiate Neo4j Driver\n",
    "uri = \"bolt://localhost:7687\"\n",
    "user = \"neo4j\"\n",
    "password = \"12345678\"\n",
    "database = \"neo4j\"\n",
    "\n",
    "from lionagi.integrations.storage.neo4j import Neo4j\n",
    "\n",
    "neo4j = Neo4j(uri, user, password, database)"
   ]
  },
  {
   "cell_type": "code",
   "execution_count": 13,
   "metadata": {},
   "outputs": [],
   "source": [
    "# structure_name is unique\n",
    "\n",
    "await neo4j.store(graph_calc, structure_name=\"math\")"
   ]
  }
 ],
 "metadata": {
  "kernelspec": {
   "display_name": ".venv",
   "language": "python",
   "name": "python3"
  },
  "language_info": {
   "codemirror_mode": {
    "name": "ipython",
    "version": 3
   },
   "file_extension": ".py",
   "mimetype": "text/x-python",
   "name": "python",
   "nbconvert_exporter": "python",
   "pygments_lexer": "ipython3",
   "version": "3.10.6"
  }
 },
 "nbformat": 4,
 "nbformat_minor": 2
}
