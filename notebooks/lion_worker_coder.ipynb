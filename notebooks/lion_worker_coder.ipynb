{
 "cells": [
  {
   "cell_type": "code",
   "execution_count": 1,
   "metadata": {},
   "outputs": [],
   "source": [
    "import lionagi as li\n",
    "from pydantic import Field\n",
    "from lionagi.libs import SysUtil"
   ]
  },
  {
   "cell_type": "code",
   "execution_count": 2,
   "metadata": {},
   "outputs": [],
   "source": [
    "import importlib\n",
    "import subprocess\n",
    "import sys\n",
    "\n",
    "def install_library(library):\n",
    "    try:\n",
    "        subprocess.check_call([sys.executable, \"-m\", \"pip\", \"install\", library])\n",
    "        print(f\"Successfully installed {library}.\")\n",
    "    except subprocess.CalledProcessError as e:\n",
    "        print(f\"Error occurred while installing {library}: {str(e)}\")\n",
    "        print(\"Please check the error message and ensure you have the necessary permissions to install packages.\")\n",
    "        print(\"You may need to run the script with administrative privileges or use a virtual environment.\")\n",
    "\n",
    "def is_library_installed(library):\n",
    "    try:\n",
    "        importlib.import_module(library)\n",
    "        return True\n",
    "    except ImportError:\n",
    "        return False\n",
    "\n",
    "def install_missing_dependencies(required_libraries):\n",
    "    print(\"Checking for missing dependencies...\")\n",
    "    missing_libraries = [\n",
    "        library\n",
    "        for library in required_libraries\n",
    "        if not is_library_installed(library)\n",
    "    ]\n",
    "\n",
    "    if missing_libraries:\n",
    "        print(f\"Missing libraries: {', '.join(missing_libraries)}\")\n",
    "        for library in missing_libraries:\n",
    "            print(f\"Installing {library}...\")\n",
    "            install_library(library)\n",
    "    else:\n",
    "        print(\"All required dependencies are already installed.\")\n",
    "\n",
    "def set_up_interpreter(interpreter_provider=\"e2b\", **kwargs):\n",
    "    print(f\"Setting up interpreter with provider: {interpreter_provider}\")\n",
    "    if interpreter_provider == \"e2b\":\n",
    "        SysUtil.check_import(\"e2b_code_interpreter\")\n",
    "        from e2b_code_interpreter import CodeInterpreter\n",
    "        \n",
    "        return CodeInterpreter(**kwargs)\n",
    "    else:\n",
    "        raise ValueError(\"Invalid interpreter provider\")\n",
    "\n",
    "def handle_error(execution, required_libraries):\n",
    "    if execution.error and execution.error.name == 'ModuleNotFoundError':\n",
    "        install_missing_dependencies(required_libraries)\n",
    "        return \"try again\"\n",
    "    elif execution.error:\n",
    "        return execution.error\n"
   ]
  },
  {
   "cell_type": "code",
   "execution_count": 3,
   "metadata": {},
   "outputs": [],
   "source": [
    "GUIDANCE_RESPONSE = \"\"\"\n",
    "    Guidance from super intelligent code bot:\n",
    "    {guidance_response}\n",
    "    Please generate Python functions that satisfies the prompt and follows the provided guidance, while adhering to these coding standards:\n",
    "    - Use descriptive and meaningful names for variables, functions, and classes.\n",
    "    - Follow the naming conventions: lowercase with underscores for functions and variables, CamelCase for classes.\n",
    "    - Keep functions small and focused, doing one thing well.\n",
    "    - Use 4 spaces for indentation, and avoid mixing spaces and tabs.\n",
    "    - Limit line length to 79 characters for better readability.\n",
    "    - Use docstrings to document functions, classes, and modules, describing their purpose, parameters, and return values.\n",
    "    - Use comments sparingly, and prefer descriptive names and clear code structure over comments.\n",
    "    - Handle exceptions appropriately and raise exceptions with clear error messages.\n",
    "    - Use blank lines to separate logical sections of code, but avoid excessive blank lines.\n",
    "    - Import modules in a specific order: standard library, third-party, and local imports, separated by blank lines.\n",
    "    - Use consistent quotes (single or double) for strings throughout the codebase.\n",
    "    - Follow the PEP 8 style guide for more detailed coding standards and best practices.\n",
    "\"\"\"\n",
    "\n",
    "PLAN_PROMPT = \"Please design coding instructions for the following prompt and provide guidance for the coder to follow.\"\n",
    "WRITE_PROMPT = \"Please write a Python function that satisfies the prompt and follows the provided guidance.\"\n",
    "REVIEW_PROMPT = \"Please review the following code and remove any unnecessary markdown or descriptions:\\n\\n{code}\\n\"\n",
    "DEBUG_PROMPT = \"\"\"\n",
    "please debug the code, fix the error and provide the correctly updated code to satisfy the prompt according to the guidance provided.\n",
    " ### code: \\n\\n {code}\\n , ran into the following \n",
    " ### error: \\n\\n {error}\\n\n",
    "\"\"\"\n",
    "\n",
    "CODER_PROMPTS = {\n",
    "    \"system\": GUIDANCE_RESPONSE,\n",
    "    \"plan_code\": PLAN_PROMPT,\n",
    "    \"write_code\": WRITE_PROMPT,\n",
    "    \"debug_code\": DEBUG_PROMPT,\n",
    "    \"review_code\": REVIEW_PROMPT,\n",
    "}"
   ]
  },
  {
   "cell_type": "code",
   "execution_count": 4,
   "metadata": {},
   "outputs": [],
   "source": [
    "class CoderForm(li.Form):\n",
    "    \"\"\"\n",
    "    A form template for developing software project\n",
    "    \"\"\"\n",
    "\n",
    "    template_name: str = \"coder template\"\n",
    "\n",
    "    context: str | None= Field(\n",
    "        None,\n",
    "        title=\"Context\",\n",
    "        description=\"The context for the current issue to achieve\",\n",
    "    )\n",
    "\n",
    "    plan: str | None = Field(\n",
    "        None,\n",
    "        title=\"Plan\",\n",
    "        description=\" breaking down the issue to multi-step plan\",\n",
    "    )\n",
    "\n",
    "    code: str | None = Field(\n",
    "        None,\n",
    "        title=\"Code\",\n",
    "        description=\"codes generated by workflow\",\n",
    "    )\n",
    "\n",
    "    review: str | None = Field(\n",
    "        None,\n",
    "        title=\"review\",\n",
    "        description=\"comments on generated code\"\n",
    "    )"
   ]
  },
  {
   "cell_type": "code",
   "execution_count": 5,
   "metadata": {},
   "outputs": [],
   "source": [
    "class DebugForm(li.Form):\n",
    "    \"\"\"\n",
    "    A form template for debugging\n",
    "    \"\"\"\n",
    "\n",
    "    template_name: str = \"debug template\"\n",
    "\n",
    "    context: str | None= Field(\n",
    "        None,\n",
    "        title=\"Context\",\n",
    "        description=\"The context for the current issue to achieve\",\n",
    "    )\n",
    "    \n",
    "    code: str | None = Field(\n",
    "        None,\n",
    "        title=\"Code\",\n",
    "        description=\"codes generated by workflow\",\n",
    "    )\n",
    "\n",
    "    error: str | None = Field(\n",
    "        None,\n",
    "        title=\"Error\",\n",
    "        description=\"error raised when executing code\"\n",
    "    )\n",
    "    \n",
    "    updated_code: str | None = Field(\n",
    "        None,\n",
    "        title=\"Updated code\",\n",
    "        description=\"modified codes according to error raised\"\n",
    "    )"
   ]
  },
  {
   "cell_type": "code",
   "execution_count": 6,
   "metadata": {},
   "outputs": [],
   "source": [
    "class Coder(li.Worker):\n",
    "    name = \"coder\"\n",
    "\n",
    "    def __init__(self, required_libraries=None):\n",
    "        super().__init__()\n",
    "        self.issues = []\n",
    "        self.unsolved_bugs=[]\n",
    "        self.tasks = {}\n",
    "        self.required_libraries = required_libraries or [\"lionagi\"]\n",
    "    \n",
    "    async def _update_form(self, work):\n",
    "        if work.status == \"COMPLETED\":\n",
    "            if work.async_task_name == \"_plan_code\":\n",
    "                form_key = work.result.context\n",
    "                self.forms[form_key].plan = getattr(work.result, \"plan\")\n",
    "            elif work.async_task_name == \"_execute_code\" and work.result.error is None:\n",
    "                form_key = work.result.context\n",
    "                self.forms[form_key].code = getattr(work.result, \"code\")\n",
    "            elif work.async_task_name == \"_review_code\":\n",
    "                form_key = work.result.context\n",
    "                self.forms[form_key].review = getattr(work.result, \"review\")\n",
    "    \n",
    "    async def _update_debug_form(self, work):\n",
    "        if work.status == \"COMPLETED\":\n",
    "            if work.async_task_name == \"_debug_code\":\n",
    "                original_form = work.result.origin\n",
    "                original_form.updated_code = getattr(work.result, \"updated_code\")\n",
    "    \n",
    "    @li.work(capacity=2, refresh_time=0.1)\n",
    "    async def create_new_issue(self, issue):\n",
    "        print(f\"*****\\nCreate issue: \\n----------\\n{issue}\\n----------\\n**\")\n",
    "        new_issue_report = CoderForm(context = issue)\n",
    "        self.forms[issue] = new_issue_report\n",
    "        self.issues.append(issue)\n",
    "        return issue\n",
    "\n",
    "    @li.work(assignment=\"context -> plan\", form_param_key=\"issue\", guidance=CODER_PROMPTS[\"plan_code\"], capacity=2, refresh_time=0.1)\n",
    "    async def _plan_code(self, issue, **kwargs):\n",
    "        if issue not in self.issues:\n",
    "            raise ValueError(\"Issue is not found. Please create_new_issue first.\")\n",
    "        print(f\"*****\\nPlanning code for issue: \\n----------\\n{issue}\\n----------\\n**\")\n",
    "        result = await li.direct.chat(system=CODER_PROMPTS[\"system\"], **kwargs)\n",
    "        print(f\"*****\\nCode plan generated for issue: \\n----------\\n{issue}\\n----------\\n**\")\n",
    "        return result\n",
    "    \n",
    "    @li.work(assignment=\"context, plan -> code\", form_param_key=\"issue\", guidance=CODER_PROMPTS[\"write_code\"], capacity=2, refresh_time=0.1)\n",
    "    async def _write_code(self, issue, **kwargs):\n",
    "        if issue not in self.issues:\n",
    "            raise ValueError(\"Issue is not found. Please create_new_issue first.\")\n",
    "        print(f\"*****\\nWriting code for issue: \\n----------\\n{issue}\\n----------\\n**\")\n",
    "        result = await li.direct.chat(system=CODER_PROMPTS[\"system\"], **kwargs)\n",
    "        print(f\"*****\\nCode written for issue: \\n----------\\n{issue}\\n----------\\n**\")\n",
    "        return result\n",
    "    \n",
    "    @li.work(capacity=1, refresh_time=0.5)\n",
    "    async def _execute_code(self, context, code, interpreter_kwargs={}, **kwargs):\n",
    "        print(f\"*****\\nExecuting code for issue: \\n----------\\n{context}\\n----------\\n**\")\n",
    "        with set_up_interpreter(**interpreter_kwargs) as sandbox:\n",
    "            execution = sandbox.notebook.exec_cell(code, **kwargs)\n",
    "            error = handle_error(execution, required_libraries=self.required_libraries)\n",
    "            if error == \"try again\":\n",
    "                execution = sandbox.notebook.exec_cell(code, **kwargs)\n",
    "            print(f\"*****\\nCode execution completed for issue: \\n----------\\n{context}\\n----------\\n**\")\n",
    "            if error is not None:\n",
    "                result = DebugForm(context=context, code=code, error=execution.error.traceback)\n",
    "                self.forms[result.ln_id] = result\n",
    "            else:\n",
    "                result = DebugForm(context=context, code=code)\n",
    "            return result\n",
    "    \n",
    "    @li.work(assignment=\"context, code, error -> updated_code\", form_param_key=\"bug_form_id\", guidance=CODER_PROMPTS[\"debug_code\"], capacity=1, refresh_time=0.1)\n",
    "    async def _debug_code(self, bug_form_id, **kwargs):\n",
    "        print(f\"*****\\nDebugging code for issue: \\n----------\\n{self.forms[bug_form_id].context}\\n----------\\n**\")\n",
    "        result = await li.direct.chat(system=CODER_PROMPTS[\"system\"], **kwargs)\n",
    "        print(f\"*****\\nCode debugging completed for issue: \\n----------\\n{self.forms[bug_form_id].context}\\n----------\\n**\")\n",
    "        return result\n",
    "\n",
    "    @li.work(assignment=\"context, code -> review\", form_param_key=\"issue\", guidance=CODER_PROMPTS[\"review_code\"], capacity=2, refresh_time=0.1)\n",
    "    async def _review_code(self, issue, **kwargs):\n",
    "        if issue not in self.issues:\n",
    "            raise ValueError(\"Issue is not found. Please create_new_issue first.\")\n",
    "        print(f\"*****\\nReviewing code for issue: \\n----------\\n{issue}\\n----------\\n**\")\n",
    "        result = await li.direct.chat(system=CODER_PROMPTS[\"system\"], **kwargs)\n",
    "        print(f\"*****\\nCode reviewed for issue: \\n----------\\n{issue}\\n----------\\n**\")\n",
    "        return result\n",
    "\n",
    "    @li.worklink(from_=\"create_new_issue\", to_=\"_plan_code\")\n",
    "    async def create_to_plan(self, from_result):\n",
    "        return {\"issue\": from_result}\n",
    "    \n",
    "    @li.worklink(from_=\"_plan_code\", to_=\"_write_code\")\n",
    "    async def plan_to_write(self, from_work):\n",
    "        await self._update_form(from_work)\n",
    "        return {\"issue\": from_work.result.context}\n",
    "    \n",
    "    @li.worklink(from_=\"_write_code\", to_=\"_execute_code\")\n",
    "    async def write_to_execute(self, from_result):\n",
    "        return {\"context\": from_result.context, \"code\": from_result.code}\n",
    "    \n",
    "    @li.worklink(from_=\"_execute_code\", to_=\"_debug_code\")\n",
    "    async def execute_to_debug(self, from_result):\n",
    "        if from_result.error is not None:\n",
    "            return {\"bug_form_id\": from_result.ln_id}\n",
    "\n",
    "    @li.worklink(from_=\"_debug_code\", to_=\"_execute_code\")\n",
    "    async def debug_to_execute(self, from_result, from_work):\n",
    "        await self._update_debug_form(from_work)\n",
    "        return {\"context\": from_result.context, \"code\": from_result.updated_code}\n",
    "\n",
    "    @li.worklink(from_=\"_execute_code\", to_=\"_review_code\")\n",
    "    async def execute_to_review(self, from_work, from_result):\n",
    "        if from_result.error is None:\n",
    "            await self._update_form(from_work)\n",
    "            return {\"issue\": from_result.context}\n",
    "\n",
    "    async def post_processing(self, task):\n",
    "        await self._update_form(task.work_history[-1])\n"
   ]
  },
  {
   "cell_type": "code",
   "execution_count": 7,
   "metadata": {},
   "outputs": [],
   "source": [
    "from lionagi.core.work.worker_engine import WorkerEngine"
   ]
  },
  {
   "cell_type": "code",
   "execution_count": 8,
   "metadata": {},
   "outputs": [],
   "source": [
    "coder = Coder()"
   ]
  },
  {
   "cell_type": "code",
   "execution_count": 9,
   "metadata": {},
   "outputs": [],
   "source": [
    "coder_engine = WorkerEngine(worker=coder, refresh_time=0.3)"
   ]
  },
  {
   "cell_type": "code",
   "execution_count": 10,
   "metadata": {},
   "outputs": [
    {
     "data": {
      "image/png": "[encoded data removed]",
      "text/plain": [
       "<Figure size 640x480 with 1 Axes>"
      ]
     },
     "metadata": {},
     "output_type": "display_data"
    }
   ],
   "source": [
    "coder_engine.worker_graph.display(node_label=\"name\", draw_kwargs={\"connectionstyle\": \"arc3, rad = 0.2\"})\n",
    "# coder_engine.worker_graph.display(node_label=\"name\", edge_label=\"name\", draw_kwargs={\"connectionstyle\": \"arc3, rad = 0.2\"})"
   ]
  },
  {
   "cell_type": "code",
   "execution_count": 11,
   "metadata": {},
   "outputs": [],
   "source": [
    "# schedule tasks\n",
    "task1 = await coder_engine.add_task(\"write a python function that takes a numpy of integers and returns the sum.\", \n",
    "                   task_function=\"create_new_issue\",\n",
    "                   task_post_processing=coder.post_processing)  # The post-processing function to be executed after the entire task has been completed."
   ]
  },
  {
   "cell_type": "code",
   "execution_count": 12,
   "metadata": {},
   "outputs": [
    {
     "name": "stdout",
     "output_type": "stream",
     "text": [
      "*****\n",
      "Create issue: \n",
      "----------\n",
      "write a python function that takes a numpy of integers and returns the sum.\n",
      "----------\n",
      "**\n",
      "*****\n",
      "Planning code for issue: \n",
      "----------\n",
      "write a python function that takes a numpy of integers and returns the sum.\n",
      "----------\n",
      "**\n",
      "*****\n",
      "Code plan generated for issue: \n",
      "----------\n",
      "write a python function that takes a numpy of integers and returns the sum.\n",
      "----------\n",
      "**\n",
      "*****\n",
      "Writing code for issue: \n",
      "----------\n",
      "write a python function that takes a numpy of integers and returns the sum.\n",
      "----------\n",
      "**\n",
      "*****\n",
      "Code written for issue: \n",
      "----------\n",
      "write a python function that takes a numpy of integers and returns the sum.\n",
      "----------\n",
      "**\n",
      "*****\n",
      "Executing code for issue: \n",
      "----------\n",
      "write a python function that takes a numpy of integers and returns the sum.\n",
      "----------\n",
      "**\n",
      "Setting up interpreter with provider: e2b\n",
      "*****\n",
      "Code execution completed for issue: \n",
      "----------\n",
      "write a python function that takes a numpy of integers and returns the sum.\n",
      "----------\n",
      "**\n",
      "*****\n",
      "Reviewing code for issue: \n",
      "----------\n",
      "write a python function that takes a numpy of integers and returns the sum.\n",
      "----------\n",
      "**\n",
      "*****\n",
      "Code reviewed for issue: \n",
      "----------\n",
      "write a python function that takes a numpy of integers and returns the sum.\n",
      "----------\n",
      "**\n"
     ]
    }
   ],
   "source": [
    "await coder_engine.execute()"
   ]
  },
  {
   "cell_type": "code",
   "execution_count": 13,
   "metadata": {},
   "outputs": [
    {
     "name": "stdout",
     "output_type": "stream",
     "text": [
      "Work create_new_issue:\n"
     ]
    },
    {
     "data": {
      "text/plain": [
       "ln_id                                    36a912548249dd3de1272db79b0aabc6\n",
       "created                                        2024-06-14T15:09:58.923260\n",
       "metadata                {'last_updated': {'status': '2024-06-14T15:09:...\n",
       "content                                                              None\n",
       "embedding                                                              []\n",
       "status                                               WorkStatus.COMPLETED\n",
       "result                  write a python function that takes a numpy of ...\n",
       "error                                                                None\n",
       "async_task_name                                          create_new_issue\n",
       "completion_timestamp                           2024-06-14T15:09:58.927208\n",
       "duration                                                         0.000187\n",
       "lion_class                                                           Work\n",
       "dtype: object"
      ]
     },
     "metadata": {},
     "output_type": "display_data"
    },
    {
     "name": "stdout",
     "output_type": "stream",
     "text": [
      "Result:\n"
     ]
    },
    {
     "data": {
      "text/plain": [
       "'write a python function that takes a numpy of integers and returns the sum.'"
      ]
     },
     "metadata": {},
     "output_type": "display_data"
    },
    {
     "name": "stdout",
     "output_type": "stream",
     "text": [
      "Work _plan_code:\n"
     ]
    },
    {
     "data": {
      "text/plain": [
       "ln_id                                    8756f84e31b14465e3a4f685499a9ea7\n",
       "created                                        2024-06-14T15:09:59.533938\n",
       "metadata                {'last_updated': {'status': '2024-06-14T15:09:...\n",
       "content                                                              None\n",
       "embedding                                                              []\n",
       "status                                               WorkStatus.COMPLETED\n",
       "result                  {'ln_id': 'fcf6b54515316c3688c5596f55cef031', ...\n",
       "error                                                                None\n",
       "async_task_name                                                _plan_code\n",
       "completion_timestamp                           2024-06-14T15:10:09.636536\n",
       "duration                                                          9.79899\n",
       "lion_class                                                           Work\n",
       "dtype: object"
      ]
     },
     "metadata": {},
     "output_type": "display_data"
    },
    {
     "name": "stdout",
     "output_type": "stream",
     "text": [
      "Result:\n"
     ]
    },
    {
     "data": {
      "text/plain": [
       "ln_id                                 fcf6b54515316c3688c5596f55cef031\n",
       "created                                     2024-06-14T15:09:59.533821\n",
       "metadata             {'last_updated': {'input_fields': '2024-06-14T...\n",
       "content                                                           None\n",
       "embedding                                                           []\n",
       "template_name                                           coder template\n",
       "assignment                                             context -> plan\n",
       "input_fields                                                 [context]\n",
       "requested_fields                                                [plan]\n",
       "task                 Please design coding instructions for the foll...\n",
       "validation_kwargs                                                   {}\n",
       "context              write a python function that takes a numpy of ...\n",
       "plan                 To write a Python function that takes a numpy ...\n",
       "code                                                              None\n",
       "review                                                            None\n",
       "origin               {'ln_id': 'e3883b3aed61fd72fb1070ad84c28922', ...\n",
       "lion_class                                                   CoderForm\n",
       "dtype: object"
      ]
     },
     "metadata": {},
     "output_type": "display_data"
    },
    {
     "name": "stdout",
     "output_type": "stream",
     "text": [
      "Work _write_code:\n"
     ]
    },
    {
     "data": {
      "text/plain": [
       "ln_id                                    fd0fd494b39406f9ba94f133729a12d0\n",
       "created                                        2024-06-14T15:10:10.084656\n",
       "metadata                {'last_updated': {'status': '2024-06-14T15:10:...\n",
       "content                                                              None\n",
       "embedding                                                              []\n",
       "status                                               WorkStatus.COMPLETED\n",
       "result                  {'ln_id': 'a2edd5212d79aeedfa06eb0e836e961a', ...\n",
       "error                                                                None\n",
       "async_task_name                                               _write_code\n",
       "completion_timestamp                           2024-06-14T15:10:14.550600\n",
       "duration                                                         4.086952\n",
       "lion_class                                                           Work\n",
       "dtype: object"
      ]
     },
     "metadata": {},
     "output_type": "display_data"
    },
    {
     "name": "stdout",
     "output_type": "stream",
     "text": [
      "Result:\n"
     ]
    },
    {
     "data": {
      "text/plain": [
       "ln_id                                 a2edd5212d79aeedfa06eb0e836e961a\n",
       "created                                     2024-06-14T15:10:10.084257\n",
       "metadata             {'last_updated': {'input_fields': '2024-06-14T...\n",
       "content                                                           None\n",
       "embedding                                                           []\n",
       "template_name                                           coder template\n",
       "assignment                                       context, plan -> code\n",
       "input_fields                                           [context, plan]\n",
       "requested_fields                                                [code]\n",
       "task                 Please write a Python function that satisfies ...\n",
       "validation_kwargs                                                   {}\n",
       "context              write a python function that takes a numpy of ...\n",
       "plan                 To write a Python function that takes a numpy ...\n",
       "code                 import numpy as np\\n\\n\\ndef sum_numpy_array(ar...\n",
       "review                                                            None\n",
       "origin               {'ln_id': 'e3883b3aed61fd72fb1070ad84c28922', ...\n",
       "lion_class                                                   CoderForm\n",
       "dtype: object"
      ]
     },
     "metadata": {},
     "output_type": "display_data"
    },
    {
     "name": "stdout",
     "output_type": "stream",
     "text": [
      "Work _execute_code:\n"
     ]
    },
    {
     "data": {
      "text/plain": [
       "ln_id                                    d8ada83f2b1e33be2ab765dd463fce19\n",
       "created                                        2024-06-14T15:10:14.604973\n",
       "metadata                {'last_updated': {'status': '2024-06-14T15:10:...\n",
       "content                                                              None\n",
       "embedding                                                              []\n",
       "status                                               WorkStatus.COMPLETED\n",
       "result                  {'ln_id': '87bbb925490bfcfe6fbb8ed484cd611f', ...\n",
       "error                                                                None\n",
       "async_task_name                                             _execute_code\n",
       "completion_timestamp                           2024-06-14T15:10:19.361316\n",
       "duration                                                         4.286859\n",
       "lion_class                                                           Work\n",
       "dtype: object"
      ]
     },
     "metadata": {},
     "output_type": "display_data"
    },
    {
     "name": "stdout",
     "output_type": "stream",
     "text": [
      "Result:\n"
     ]
    },
    {
     "data": {
      "text/plain": [
       "ln_id                                 87bbb925490bfcfe6fbb8ed484cd611f\n",
       "created                                     2024-06-14T15:10:19.361183\n",
       "metadata             {'last_updated': {'input_fields': '2024-06-14T...\n",
       "content                                                           None\n",
       "embedding                                                           []\n",
       "template_name                                           debug template\n",
       "assignment                                                        None\n",
       "input_fields                                                        []\n",
       "requested_fields                                                    []\n",
       "task                                                                  \n",
       "validation_kwargs                                                   {}\n",
       "context              write a python function that takes a numpy of ...\n",
       "code                 import numpy as np\\n\\n\\ndef sum_numpy_array(ar...\n",
       "error                                                             None\n",
       "updated_code                                                      None\n",
       "lion_class                                                   DebugForm\n",
       "dtype: object"
      ]
     },
     "metadata": {},
     "output_type": "display_data"
    },
    {
     "name": "stdout",
     "output_type": "stream",
     "text": [
      "Work _review_code:\n"
     ]
    },
    {
     "data": {
      "text/plain": [
       "ln_id                                    cb0db14321521e6025d496af49f1e441\n",
       "created                                        2024-06-14T15:10:19.662894\n",
       "metadata                {'last_updated': {'status': '2024-06-14T15:10:...\n",
       "content                                                              None\n",
       "embedding                                                              []\n",
       "status                                               WorkStatus.COMPLETED\n",
       "result                  {'ln_id': '372b23efaa219cc61c1aa5503129a2fa', ...\n",
       "error                                                                None\n",
       "async_task_name                                              _review_code\n",
       "completion_timestamp                           2024-06-14T15:10:24.588683\n",
       "duration                                                         4.622554\n",
       "lion_class                                                           Work\n",
       "dtype: object"
      ]
     },
     "metadata": {},
     "output_type": "display_data"
    },
    {
     "name": "stdout",
     "output_type": "stream",
     "text": [
      "Result:\n"
     ]
    },
    {
     "data": {
      "text/plain": [
       "ln_id                                 372b23efaa219cc61c1aa5503129a2fa\n",
       "created                                     2024-06-14T15:10:19.662802\n",
       "metadata             {'last_updated': {'input_fields': '2024-06-14T...\n",
       "content                                                           None\n",
       "embedding                                                           []\n",
       "template_name                                           coder template\n",
       "assignment                                     context, code -> review\n",
       "input_fields                                           [context, code]\n",
       "requested_fields                                              [review]\n",
       "task                 Please review the following code and remove an...\n",
       "validation_kwargs                                                   {}\n",
       "context              write a python function that takes a numpy of ...\n",
       "plan                                                              None\n",
       "code                 import numpy as np\\n\\n\\ndef sum_numpy_array(ar...\n",
       "review               ```json\\n{\\n    \"review\": \"The provided code i...\n",
       "origin               {'ln_id': 'e3883b3aed61fd72fb1070ad84c28922', ...\n",
       "lion_class                                                   CoderForm\n",
       "dtype: object"
      ]
     },
     "metadata": {},
     "output_type": "display_data"
    }
   ],
   "source": [
    "for work in task1.work_history:\n",
    "    print(f\"Work {work.async_task_name}:\")\n",
    "    display(work)\n",
    "    print(\"Result:\")\n",
    "    display(work.result)"
   ]
  },
  {
   "cell_type": "code",
   "execution_count": 14,
   "metadata": {},
   "outputs": [
    {
     "data": {
      "text/plain": [
       "{'write a python function that takes a numpy of integers and returns the sum.': ln_id                                 e3883b3aed61fd72fb1070ad84c28922\n",
       " created                                     2024-06-14T15:09:58.927130\n",
       " metadata             {'last_updated': {'input_fields': '2024-06-14T...\n",
       " content                                                           None\n",
       " embedding                                                           []\n",
       " template_name                                           coder template\n",
       " assignment                                                        None\n",
       " input_fields                                                        []\n",
       " requested_fields                                                    []\n",
       " task                                                                  \n",
       " validation_kwargs                                                   {}\n",
       " context              write a python function that takes a numpy of ...\n",
       " plan                 To write a Python function that takes a numpy ...\n",
       " code                 import numpy as np\\n\\n\\ndef sum_numpy_array(ar...\n",
       " review               ```json\\n{\\n    \"review\": \"The provided code i...\n",
       " lion_class                                                   CoderForm\n",
       " dtype: object}"
      ]
     },
     "execution_count": 14,
     "metadata": {},
     "output_type": "execute_result"
    }
   ],
   "source": [
    "coder.forms"
   ]
  },
  {
   "cell_type": "markdown",
   "metadata": {},
   "source": [
    "# Max_steps"
   ]
  },
  {
   "cell_type": "code",
   "execution_count": 15,
   "metadata": {},
   "outputs": [],
   "source": [
    "task2_a = await coder_engine.add_task(\"Write a pure python function that takes a list of integers and returns a dictionary where the keys are the integers from the list and the values are the counts of how many times each integer appears in the list.\", \n",
    "                   task_function=\"create_new_issue\",\n",
    "                   task_max_steps=1, # default to 10\n",
    "                   task_post_processing=coder.post_processing)"
   ]
  },
  {
   "cell_type": "code",
   "execution_count": 16,
   "metadata": {},
   "outputs": [
    {
     "name": "stdout",
     "output_type": "stream",
     "text": [
      "*****\n",
      "Create issue: \n",
      "----------\n",
      "Write a pure python function that takes a list of integers and returns a dictionary where the keys are the integers from the list and the values are the counts of how many times each integer appears in the list.\n",
      "----------\n",
      "**\n"
     ]
    }
   ],
   "source": [
    "await coder_engine.execute()"
   ]
  },
  {
   "cell_type": "markdown",
   "metadata": {},
   "source": [
    "# Start at any step"
   ]
  },
  {
   "cell_type": "code",
   "execution_count": 17,
   "metadata": {},
   "outputs": [],
   "source": [
    "# make sure all info is complete\n",
    "# in this case, issue has been added to the task's form before _plan_code\n",
    "task2_b = await coder_engine.add_task(\"Write a pure python function that takes a list of integers and returns a dictionary where the keys are the integers from the list and the values are the counts of how many times each integer appears in the list.\", \n",
    "                   task_function=\"_plan_code\",\n",
    "                   task_max_steps=1,\n",
    "                   task_post_processing=coder.post_processing)"
   ]
  },
  {
   "cell_type": "code",
   "execution_count": 18,
   "metadata": {},
   "outputs": [
    {
     "name": "stdout",
     "output_type": "stream",
     "text": [
      "*****\n",
      "Planning code for issue: \n",
      "----------\n",
      "Write a pure python function that takes a list of integers and returns a dictionary where the keys are the integers from the list and the values are the counts of how many times each integer appears in the list.\n",
      "----------\n",
      "**\n",
      "*****\n",
      "Code plan generated for issue: \n",
      "----------\n",
      "Write a pure python function that takes a list of integers and returns a dictionary where the keys are the integers from the list and the values are the counts of how many times each integer appears in the list.\n",
      "----------\n",
      "**\n"
     ]
    }
   ],
   "source": [
    "await coder_engine.execute()"
   ]
  },
  {
   "cell_type": "markdown",
   "metadata": {},
   "source": [
    "# Keep running engine"
   ]
  },
  {
   "cell_type": "code",
   "execution_count": 19,
   "metadata": {},
   "outputs": [
    {
     "name": "stdout",
     "output_type": "stream",
     "text": [
      "*****\n",
      "Create issue: \n",
      "----------\n",
      "write a pure python function that takes a list of integers and returns the maximum integer in the list.\n",
      "----------\n",
      "**\n",
      "*****\n",
      "Planning code for issue: \n",
      "----------\n",
      "write a pure python function that takes a list of integers and returns the maximum integer in the list.\n",
      "----------\n",
      "**\n",
      "*****\n",
      "Create issue: \n",
      "----------\n",
      "Write a pure Python function that takes a list of integers and returns a new list containing only the even integers from the original list.\n",
      "----------\n",
      "**\n",
      "*****\n",
      "Code plan generated for issue: \n",
      "----------\n",
      "write a pure python function that takes a list of integers and returns the maximum integer in the list.\n",
      "----------\n",
      "**\n",
      "*****\n",
      "Writing code for issue: \n",
      "----------\n",
      "write a pure python function that takes a list of integers and returns the maximum integer in the list.\n",
      "----------\n",
      "**\n",
      "*****\n",
      "Code written for issue: \n",
      "----------\n",
      "write a pure python function that takes a list of integers and returns the maximum integer in the list.\n",
      "----------\n",
      "**\n",
      "*****\n",
      "Executing code for issue: \n",
      "----------\n",
      "write a pure python function that takes a list of integers and returns the maximum integer in the list.\n",
      "----------\n",
      "**\n",
      "Setting up interpreter with provider: e2b\n",
      "*****\n",
      "Code execution completed for issue: \n",
      "----------\n",
      "write a pure python function that takes a list of integers and returns the maximum integer in the list.\n",
      "----------\n",
      "**\n",
      "*****\n",
      "Reviewing code for issue: \n",
      "----------\n",
      "write a pure python function that takes a list of integers and returns the maximum integer in the list.\n",
      "----------\n",
      "**\n",
      "*****\n",
      "Code reviewed for issue: \n",
      "----------\n",
      "write a pure python function that takes a list of integers and returns the maximum integer in the list.\n",
      "----------\n",
      "**\n",
      "*****\n",
      "Planning code for issue: \n",
      "----------\n",
      "Write a pure Python function that takes a list of integers and returns a new list containing only the even integers from the original list.\n",
      "----------\n",
      "**\n",
      "*****\n",
      "Code plan generated for issue: \n",
      "----------\n",
      "Write a pure Python function that takes a list of integers and returns a new list containing only the even integers from the original list.\n",
      "----------\n",
      "**\n",
      "*****\n",
      "Writing code for issue: \n",
      "----------\n",
      "Write a pure Python function that takes a list of integers and returns a new list containing only the even integers from the original list.\n",
      "----------\n",
      "**\n",
      "*****\n",
      "Code written for issue: \n",
      "----------\n",
      "Write a pure Python function that takes a list of integers and returns a new list containing only the even integers from the original list.\n",
      "----------\n",
      "**\n",
      "*****\n",
      "Executing code for issue: \n",
      "----------\n",
      "Write a pure Python function that takes a list of integers and returns a new list containing only the even integers from the original list.\n",
      "----------\n",
      "**\n",
      "Setting up interpreter with provider: e2b\n",
      "*****\n",
      "Code execution completed for issue: \n",
      "----------\n",
      "Write a pure Python function that takes a list of integers and returns a new list containing only the even integers from the original list.\n",
      "----------\n",
      "**\n",
      "*****\n",
      "Reviewing code for issue: \n",
      "----------\n",
      "Write a pure Python function that takes a list of integers and returns a new list containing only the even integers from the original list.\n",
      "----------\n",
      "**\n",
      "*****\n",
      "Code reviewed for issue: \n",
      "----------\n",
      "Write a pure Python function that takes a list of integers and returns a new list containing only the even integers from the original list.\n",
      "----------\n",
      "**\n"
     ]
    }
   ],
   "source": [
    "await coder_engine.execute_lasting() # Executes tasks continuously until engine is stopped"
   ]
  },
  {
   "cell_type": "code",
   "execution_count": 20,
   "metadata": {},
   "outputs": [],
   "source": [
    "task3 = await coder_engine.add_task(\"write a pure python function that takes a list of integers and returns the maximum integer in the list.\", \n",
    "                   task_function=\"create_new_issue\",\n",
    "                   task_post_processing=coder.post_processing)"
   ]
  },
  {
   "cell_type": "code",
   "execution_count": 21,
   "metadata": {},
   "outputs": [],
   "source": [
    "task4 = await coder_engine.add_task(\"Write a pure Python function that takes a list of integers and returns a new list containing only the even integers from the original list.\", \n",
    "                   task_function=\"create_new_issue\",\n",
    "                   task_post_processing=coder.post_processing)"
   ]
  },
  {
   "cell_type": "code",
   "execution_count": 26,
   "metadata": {},
   "outputs": [
    {
     "data": {
      "text/plain": [
       "                              ln_id                     created  \\\n",
       "0  ed4c00d1b5427a32e5287560e10eb6b3  2024-06-14T15:09:58.923211   \n",
       "1  fb6a7e00f03a049b49fc62e69b2eab64  2024-06-14T15:10:25.211479   \n",
       "2  86c0d53e29b047e0b4140a93b8db08ad  2024-06-14T15:10:26.136181   \n",
       "3  599d0f1fc78056233e6a1234b248972c  2024-06-14T15:11:19.656889   \n",
       "4  e4bf17b9ce8db84bfa0a0ba492e68b59  2024-06-14T15:11:23.714911   \n",
       "\n",
       "                                            metadata content embedding  name  \\\n",
       "0  {'last_updated': {'current_work': '2024-06-14T...    None        []  None   \n",
       "1  {'last_updated': {'current_work': '2024-06-14T...    None        []  None   \n",
       "2  {'last_updated': {'current_work': '2024-06-14T...    None        []  None   \n",
       "3  {'last_updated': {'current_work': '2024-06-14T...    None        []  None   \n",
       "4  {'last_updated': {'current_work': '2024-06-14T...    None        []  None   \n",
       "\n",
       "                 status                                        status_note  \\\n",
       "0  WorkStatus.COMPLETED                                               None   \n",
       "1  WorkStatus.COMPLETED  Task stopped proceeding further as all availab...   \n",
       "2  WorkStatus.COMPLETED  Task stopped proceeding further as all availab...   \n",
       "3  WorkStatus.COMPLETED                                               None   \n",
       "4  WorkStatus.COMPLETED                                               None   \n",
       "\n",
       "                                        work_history  max_steps current_work  \\\n",
       "0  [{'ln_id': '36a912548249dd3de1272db79b0aabc6',...         10         None   \n",
       "1  [{'ln_id': '1230c8f6957465bc6b398d15d9d83071',...          1         None   \n",
       "2  [{'ln_id': 'e852e10a22054976435a17789ceaf075',...          1         None   \n",
       "3  [{'ln_id': 'eef714253c0a54f3c895c474e765e7f3',...         10         None   \n",
       "4  [{'ln_id': '6c887758198ea5fa78c964f88b244fb4',...         10         None   \n",
       "\n",
       "                                     post_processing lion_class  \n",
       "0  <bound method Coder.post_processing of <__main...   WorkTask  \n",
       "1  <bound method Coder.post_processing of <__main...   WorkTask  \n",
       "2  <bound method Coder.post_processing of <__main...   WorkTask  \n",
       "3  <bound method Coder.post_processing of <__main...   WorkTask  \n",
       "4  <bound method Coder.post_processing of <__main...   WorkTask  "
      ]
     },
     "execution_count": 26,
     "metadata": {},
     "output_type": "execute_result"
    }
   ],
   "source": [
    "coder_engine.tasks"
   ]
  },
  {
   "cell_type": "markdown",
   "metadata": {},
   "source": [
    "# Stop running engine and running work functions"
   ]
  },
  {
   "cell_type": "code",
   "execution_count": 27,
   "metadata": {},
   "outputs": [],
   "source": [
    "await coder_engine.stop() # stop running engine\n",
    "await coder_engine.worker.stop() # stop running work functions"
   ]
  }
 ],
 "metadata": {
  "kernelspec": {
   "display_name": ".venv",
   "language": "python",
   "name": "python3"
  },
  "language_info": {
   "codemirror_mode": {
    "name": "ipython",
    "version": 3
   },
   "file_extension": ".py",
   "mimetype": "text/x-python",
   "name": "python",
   "nbconvert_exporter": "python",
   "pygments_lexer": "ipython3",
   "version": "3.10.6"
  }
 },
 "nbformat": 4,
 "nbformat_minor": 2
}
